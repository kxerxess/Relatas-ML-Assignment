{
 "cells": [
  {
   "cell_type": "markdown",
   "metadata": {},
   "source": [
    "# Importing Libraries"
   ]
  },
  {
   "cell_type": "code",
   "execution_count": 57,
   "metadata": {},
   "outputs": [],
   "source": [
    "import numpy as np\n",
    "import pandas as pd\n",
    "import seaborn as sns\n",
    "import matplotlib.pyplot as plt"
   ]
  },
  {
   "cell_type": "markdown",
   "metadata": {},
   "source": [
    "# Loading The Data"
   ]
  },
  {
   "cell_type": "code",
   "execution_count": 38,
   "metadata": {},
   "outputs": [
    {
     "data": {
      "text/html": [
       "<div>\n",
       "<style scoped>\n",
       "    .dataframe tbody tr th:only-of-type {\n",
       "        vertical-align: middle;\n",
       "    }\n",
       "\n",
       "    .dataframe tbody tr th {\n",
       "        vertical-align: top;\n",
       "    }\n",
       "\n",
       "    .dataframe thead th {\n",
       "        text-align: right;\n",
       "    }\n",
       "</style>\n",
       "<table border=\"1\" class=\"dataframe\">\n",
       "  <thead>\n",
       "    <tr style=\"text-align: right;\">\n",
       "      <th></th>\n",
       "      <th>Account</th>\n",
       "      <th>Opportunity_ID</th>\n",
       "      <th>Sales_Agent</th>\n",
       "      <th>SalesAgentEmailID</th>\n",
       "      <th>ContactEmailID</th>\n",
       "      <th>Deal_Stage</th>\n",
       "      <th>Product</th>\n",
       "      <th>Close_Value</th>\n",
       "      <th>Created Date</th>\n",
       "      <th>Close Date</th>\n",
       "      <th>DateDiff</th>\n",
       "    </tr>\n",
       "  </thead>\n",
       "  <tbody>\n",
       "    <tr>\n",
       "      <th>0</th>\n",
       "      <td>Konex</td>\n",
       "      <td>3KR50X38</td>\n",
       "      <td>Corliss Cosme</td>\n",
       "      <td>corliss@piedpiper.com</td>\n",
       "      <td>delila@konex.com</td>\n",
       "      <td>Won</td>\n",
       "      <td>GTX Plus Basic</td>\n",
       "      <td>1255</td>\n",
       "      <td>2016-01-04</td>\n",
       "      <td>2016-05-24</td>\n",
       "      <td>141</td>\n",
       "    </tr>\n",
       "    <tr>\n",
       "      <th>1</th>\n",
       "      <td>Finjob</td>\n",
       "      <td>YFS5KLJJ</td>\n",
       "      <td>Rosalina Dieter</td>\n",
       "      <td>rosalina@piedpiper.com</td>\n",
       "      <td>belinda@finjob.com</td>\n",
       "      <td>Won</td>\n",
       "      <td>MG Special</td>\n",
       "      <td>45</td>\n",
       "      <td>2016-01-04</td>\n",
       "      <td>2016-11-02</td>\n",
       "      <td>303</td>\n",
       "    </tr>\n",
       "    <tr>\n",
       "      <th>2</th>\n",
       "      <td>Kinnamplus</td>\n",
       "      <td>N0ONCYVZ</td>\n",
       "      <td>Donn Cantrell</td>\n",
       "      <td>donn@piedpiper.com</td>\n",
       "      <td>monte@kinnamplus.com</td>\n",
       "      <td>Lost</td>\n",
       "      <td>MG Special</td>\n",
       "      <td>1054</td>\n",
       "      <td>2016-01-06</td>\n",
       "      <td>2016-12-07</td>\n",
       "      <td>336</td>\n",
       "    </tr>\n",
       "    <tr>\n",
       "      <th>3</th>\n",
       "      <td>Genco Pura Olive Oil Company</td>\n",
       "      <td>IBEUTCSW</td>\n",
       "      <td>James Ascencio</td>\n",
       "      <td>james@piedpiper.com</td>\n",
       "      <td>karole@gencopuraoliveoilcompany.com</td>\n",
       "      <td>In Progress</td>\n",
       "      <td>MG Advanced</td>\n",
       "      <td>1054</td>\n",
       "      <td>2016-01-06</td>\n",
       "      <td>2016-09-11</td>\n",
       "      <td>249</td>\n",
       "    </tr>\n",
       "    <tr>\n",
       "      <th>4</th>\n",
       "      <td>Initech</td>\n",
       "      <td>G8AO5FA2</td>\n",
       "      <td>Wilburn Farren</td>\n",
       "      <td>wilburn@piedpiper.com</td>\n",
       "      <td>alejandro@initech.com</td>\n",
       "      <td>Lost</td>\n",
       "      <td>MG Advanced</td>\n",
       "      <td>517</td>\n",
       "      <td>2016-01-06</td>\n",
       "      <td>2016-09-18</td>\n",
       "      <td>256</td>\n",
       "    </tr>\n",
       "    <tr>\n",
       "      <th>5</th>\n",
       "      <td>Stanredtax</td>\n",
       "      <td>2V848WZD</td>\n",
       "      <td>Lajuana Vencill</td>\n",
       "      <td>lajuana@piedpiper.com</td>\n",
       "      <td>candice@stanredtax.com</td>\n",
       "      <td>Won</td>\n",
       "      <td>MG Advanced</td>\n",
       "      <td>3180</td>\n",
       "      <td>2016-01-07</td>\n",
       "      <td>2016-01-31</td>\n",
       "      <td>24</td>\n",
       "    </tr>\n",
       "    <tr>\n",
       "      <th>6</th>\n",
       "      <td>Hatfan</td>\n",
       "      <td>PE84CX4O</td>\n",
       "      <td>Zane Levy</td>\n",
       "      <td>zane@piedpiper.com</td>\n",
       "      <td>tyron@hatfan.com</td>\n",
       "      <td>Won</td>\n",
       "      <td>GTX Basic</td>\n",
       "      <td>517</td>\n",
       "      <td>2016-01-08</td>\n",
       "      <td>2016-12-08</td>\n",
       "      <td>335</td>\n",
       "    </tr>\n",
       "    <tr>\n",
       "      <th>7</th>\n",
       "      <td>Y-corporation</td>\n",
       "      <td>GIUUTBXM</td>\n",
       "      <td>Kary Hendrixson</td>\n",
       "      <td>kary@piedpiper.com</td>\n",
       "      <td>rosanne@y-corporation.com</td>\n",
       "      <td>Won</td>\n",
       "      <td>GTXPro</td>\n",
       "      <td>5539</td>\n",
       "      <td>2016-01-10</td>\n",
       "      <td>2016-12-03</td>\n",
       "      <td>328</td>\n",
       "    </tr>\n",
       "    <tr>\n",
       "      <th>8</th>\n",
       "      <td>Gogozoom</td>\n",
       "      <td>C20AVXN7</td>\n",
       "      <td>Darcel Schlecht</td>\n",
       "      <td>darcel@piedpiper.com</td>\n",
       "      <td>salina@gogozoom.com</td>\n",
       "      <td>Won</td>\n",
       "      <td>GTXPro</td>\n",
       "      <td>4359</td>\n",
       "      <td>2016-01-10</td>\n",
       "      <td>2016-01-28</td>\n",
       "      <td>18</td>\n",
       "    </tr>\n",
       "    <tr>\n",
       "      <th>9</th>\n",
       "      <td>Kinnamplus</td>\n",
       "      <td>VR9NYBOV</td>\n",
       "      <td>Garret Kinder</td>\n",
       "      <td>garret@piedpiper.com</td>\n",
       "      <td>monte@kinnamplus.com</td>\n",
       "      <td>Won</td>\n",
       "      <td>MG Special</td>\n",
       "      <td>41</td>\n",
       "      <td>2016-01-11</td>\n",
       "      <td>2016-12-29</td>\n",
       "      <td>353</td>\n",
       "    </tr>\n",
       "  </tbody>\n",
       "</table>\n",
       "</div>"
      ],
      "text/plain": [
       "                        Account Opportunity_ID      Sales_Agent  \\\n",
       "0                         Konex       3KR50X38    Corliss Cosme   \n",
       "1                        Finjob       YFS5KLJJ  Rosalina Dieter   \n",
       "2                    Kinnamplus       N0ONCYVZ    Donn Cantrell   \n",
       "3  Genco Pura Olive Oil Company       IBEUTCSW   James Ascencio   \n",
       "4                       Initech       G8AO5FA2   Wilburn Farren   \n",
       "5                    Stanredtax       2V848WZD  Lajuana Vencill   \n",
       "6                        Hatfan       PE84CX4O        Zane Levy   \n",
       "7                 Y-corporation       GIUUTBXM  Kary Hendrixson   \n",
       "8                      Gogozoom       C20AVXN7  Darcel Schlecht   \n",
       "9                    Kinnamplus       VR9NYBOV    Garret Kinder   \n",
       "\n",
       "        SalesAgentEmailID                       ContactEmailID   Deal_Stage  \\\n",
       "0   corliss@piedpiper.com                     delila@konex.com          Won   \n",
       "1  rosalina@piedpiper.com                   belinda@finjob.com          Won   \n",
       "2      donn@piedpiper.com                 monte@kinnamplus.com         Lost   \n",
       "3     james@piedpiper.com  karole@gencopuraoliveoilcompany.com  In Progress   \n",
       "4   wilburn@piedpiper.com                alejandro@initech.com         Lost   \n",
       "5   lajuana@piedpiper.com               candice@stanredtax.com          Won   \n",
       "6      zane@piedpiper.com                     tyron@hatfan.com          Won   \n",
       "7      kary@piedpiper.com            rosanne@y-corporation.com          Won   \n",
       "8    darcel@piedpiper.com                  salina@gogozoom.com          Won   \n",
       "9    garret@piedpiper.com                 monte@kinnamplus.com          Won   \n",
       "\n",
       "          Product  Close_Value Created Date Close Date  DateDiff  \n",
       "0  GTX Plus Basic         1255   2016-01-04 2016-05-24       141  \n",
       "1      MG Special           45   2016-01-04 2016-11-02       303  \n",
       "2      MG Special         1054   2016-01-06 2016-12-07       336  \n",
       "3     MG Advanced         1054   2016-01-06 2016-09-11       249  \n",
       "4     MG Advanced          517   2016-01-06 2016-09-18       256  \n",
       "5     MG Advanced         3180   2016-01-07 2016-01-31        24  \n",
       "6       GTX Basic          517   2016-01-08 2016-12-08       335  \n",
       "7          GTXPro         5539   2016-01-10 2016-12-03       328  \n",
       "8          GTXPro         4359   2016-01-10 2016-01-28        18  \n",
       "9      MG Special           41   2016-01-11 2016-12-29       353  "
      ]
     },
     "execution_count": 38,
     "metadata": {},
     "output_type": "execute_result"
    }
   ],
   "source": [
    "sales = pd.read_excel('sales-pipeline.xlsx')\n",
    "sales.head(10)"
   ]
  },
  {
   "cell_type": "code",
   "execution_count": 3,
   "metadata": {},
   "outputs": [
    {
     "data": {
      "text/html": [
       "<div>\n",
       "<style scoped>\n",
       "    .dataframe tbody tr th:only-of-type {\n",
       "        vertical-align: middle;\n",
       "    }\n",
       "\n",
       "    .dataframe tbody tr th {\n",
       "        vertical-align: top;\n",
       "    }\n",
       "\n",
       "    .dataframe thead th {\n",
       "        text-align: right;\n",
       "    }\n",
       "</style>\n",
       "<table border=\"1\" class=\"dataframe\">\n",
       "  <thead>\n",
       "    <tr style=\"text-align: right;\">\n",
       "      <th></th>\n",
       "      <th>interactionID</th>\n",
       "      <th>fromEmailId</th>\n",
       "      <th>toEmailId</th>\n",
       "      <th>InteractionDate</th>\n",
       "      <th>InteractionType(Call/Email/SMS)</th>\n",
       "      <th>Extracted Interaction Text</th>\n",
       "    </tr>\n",
       "  </thead>\n",
       "  <tbody>\n",
       "    <tr>\n",
       "      <th>0</th>\n",
       "      <td>8842411</td>\n",
       "      <td>gladys@piedpiper.com</td>\n",
       "      <td>kristle@dontechi.com</td>\n",
       "      <td>2016-01-04</td>\n",
       "      <td>Call</td>\n",
       "      <td>I thoroughly enjoyed your presentation yesterd...</td>\n",
       "    </tr>\n",
       "    <tr>\n",
       "      <th>1</th>\n",
       "      <td>8015509</td>\n",
       "      <td>donn@piedpiper.com</td>\n",
       "      <td>orpha@umbrellacorporation.com</td>\n",
       "      <td>2016-01-04</td>\n",
       "      <td>Call</td>\n",
       "      <td>speaking with you and your staff will be a tre...</td>\n",
       "    </tr>\n",
       "    <tr>\n",
       "      <th>2</th>\n",
       "      <td>5976842</td>\n",
       "      <td>kary@piedpiper.com</td>\n",
       "      <td>claribel@goodsilron.com</td>\n",
       "      <td>2016-01-04</td>\n",
       "      <td>Email</td>\n",
       "      <td>However, I am unable to join because of my fam...</td>\n",
       "    </tr>\n",
       "    <tr>\n",
       "      <th>3</th>\n",
       "      <td>1471794</td>\n",
       "      <td>boris@piedpiper.com</td>\n",
       "      <td>gordon@scotfind.com</td>\n",
       "      <td>2016-01-04</td>\n",
       "      <td>Call</td>\n",
       "      <td>We are extremely sorry to inform you that we h...</td>\n",
       "    </tr>\n",
       "    <tr>\n",
       "      <th>4</th>\n",
       "      <td>4330320</td>\n",
       "      <td>darcel@piedpiper.com</td>\n",
       "      <td>benny@treequote.com</td>\n",
       "      <td>2016-01-04</td>\n",
       "      <td>Call</td>\n",
       "      <td>I don't think it's possible for me to meet you</td>\n",
       "    </tr>\n",
       "  </tbody>\n",
       "</table>\n",
       "</div>"
      ],
      "text/plain": [
       "   interactionID           fromEmailId                      toEmailId  \\\n",
       "0        8842411  gladys@piedpiper.com           kristle@dontechi.com   \n",
       "1        8015509    donn@piedpiper.com  orpha@umbrellacorporation.com   \n",
       "2        5976842    kary@piedpiper.com        claribel@goodsilron.com   \n",
       "3        1471794   boris@piedpiper.com            gordon@scotfind.com   \n",
       "4        4330320  darcel@piedpiper.com            benny@treequote.com   \n",
       "\n",
       "  InteractionDate InteractionType(Call/Email/SMS)  \\\n",
       "0      2016-01-04                            Call   \n",
       "1      2016-01-04                            Call   \n",
       "2      2016-01-04                           Email   \n",
       "3      2016-01-04                            Call   \n",
       "4      2016-01-04                            Call   \n",
       "\n",
       "                          Extracted Interaction Text  \n",
       "0  I thoroughly enjoyed your presentation yesterd...  \n",
       "1  speaking with you and your staff will be a tre...  \n",
       "2  However, I am unable to join because of my fam...  \n",
       "3  We are extremely sorry to inform you that we h...  \n",
       "4     I don't think it's possible for me to meet you  "
      ]
     },
     "execution_count": 3,
     "metadata": {},
     "output_type": "execute_result"
    }
   ],
   "source": [
    "interx = pd.read_excel('interactions.xlsx')\n",
    "interx.head()"
   ]
  },
  {
   "cell_type": "markdown",
   "metadata": {},
   "source": [
    "# Data Analysis and Visualization"
   ]
  },
  {
   "cell_type": "code",
   "execution_count": 4,
   "metadata": {},
   "outputs": [
    {
     "name": "stdout",
     "output_type": "stream",
     "text": [
      "No. of rows in sales: 8800\n"
     ]
    }
   ],
   "source": [
    "# No. of rows in sales\n",
    "rows = sales.shape[0]\n",
    "print('No. of rows in sales:', rows)"
   ]
  },
  {
   "cell_type": "code",
   "execution_count": 5,
   "metadata": {},
   "outputs": [
    {
     "name": "stdout",
     "output_type": "stream",
     "text": [
      "No. of rows in interactions: 316776\n"
     ]
    }
   ],
   "source": [
    "# No. of rows in interactions\n",
    "rows = interx.shape[0]\n",
    "print('No. of rows in interactions:', rows)"
   ]
  },
  {
   "cell_type": "code",
   "execution_count": 6,
   "metadata": {},
   "outputs": [],
   "source": [
    "# Distribution of Deal Stages"
   ]
  },
  {
   "cell_type": "code",
   "execution_count": 12,
   "metadata": {},
   "outputs": [
    {
     "name": "stdout",
     "output_type": "stream",
     "text": [
      "Won            4238\n",
      "Lost           2473\n",
      "In Progress    2089\n",
      "Name: Deal_Stage, dtype: int64\n"
     ]
    },
    {
     "data": {
      "image/png": "[encoded data removed]",
      "text/plain": [
       "<Figure size 432x288 with 1 Axes>"
      ]
     },
     "metadata": {
      "needs_background": "light"
     },
     "output_type": "display_data"
    }
   ],
   "source": [
    "sales['Deal_Stage'].value_counts().plot(kind='barh')\n",
    "print(sales['Deal_Stage'].value_counts())"
   ]
  },
  {
   "cell_type": "markdown",
   "metadata": {},
   "source": [
    "# Preparation of Final Dataset"
   ]
  },
  {
   "cell_type": "code",
   "execution_count": 32,
   "metadata": {},
   "outputs": [],
   "source": [
    "# Function to get all interactions among 2 people between a given time period\n",
    "\n",
    "def get_interactions(from_, to, start, end):\n",
    "    texts = interx[(interx['fromEmailId']==from_) & (interx['toEmailId']==to) & \\\n",
    "                   (interx['InteractionDate']<=end) & (interx['InteractionDate']>=start)]['Extracted Interaction Text']\n",
    "    texts = ''.join(list(texts))\n",
    "    return texts"
   ]
  },
  {
   "cell_type": "code",
   "execution_count": 59,
   "metadata": {},
   "outputs": [
    {
     "name": "stdout",
     "output_type": "stream",
     "text": [
      "Text:\n",
      "\n",
      " We are writing from GHF regarding the previous discussions that we had about the business proposal that your company sent us. We are happy to let you know that GHF accepted your business proposal. Thank you for offering us the opportunity of working with you. We are looking forward to work with your company.I had asked you to send the progress on the project by the end of last week but I still haven't got it. Do send us the report asap. We will not be able to move forward with the deal unless we get it verified by our CEO. I wish to commend your receptionist, Jany Dan, for the way she handled our problem yesterday. She was courteous and friendly as she made half a dozen telephone calls on my behalf, not giving up until she had traced the missing shipment. Ms. Dan is an asset to your organization and is part of the reason I look forward to doing business with you again in the future.I need to cancel the appointment I made to you on January 29, at 9:00 a.m.Congratulations! Your hard work has paid off! After carefully reviewing your performance reports, the board has voted unanimously to promote you to the position of office manager. This promotion will entitle you to a 10% salary increase and an office in the management suite. We feel that you will do a fine job and wish you every success in this new position.It gives me immense pleasure to write to you with regard to the offer of marketing relationship with your company. We want your company to undertake marketing activities right from devising the marketing to implementation of a proper strategy to improve sales. We hope to have a mutually beneficial business relationship with your company. Looking forward to a positive reply from your end.The business deal has been closed successfullyThank you for the computer benchmarks produced by Thorogood Computer Associates; they really are excellent! Thank you once again for your contribution to the industry.I am pleased we will be able to discuss the management plan. I will meet you at the Park Plaza at 12:00 p.m. Thursday. I believe this meeting will help us speed up the project.I have considered it carefully and must decline the offer because the position will require too much travel.I am not sure if we need the product right nowRegrettably, Dox does not publish unsolicited material. We plan our publication months in advance and make topic assignments to the various free-lance and in-house writers in our data base. If you wish to be considered for an assignment in the future, please submit a cover letter and three writing samples. If you meet our criteria, we will add you to our data base.As anticipated, the recent merger with Doe Associates has resulted in overlap of some functions. Consequently, it is necessary to reduce our work force in those areas in which we have significant duplication of effort. Effective June 1, the publications and personnel divisions will decrease by 40%. Those affected will be notified by May 15. We sincerely appreciate your contributions and regret that this action has become necessary.I am connecting to you with an apologetic tone for not being able to take up the business proposal that you had sent to Vistashares Inc. It is my pleasure to inform you that you have been selected as the new team leader for development. This significant step on your career path will bring you additional responsibilities, job satisfaction, and financial rewards. Congratulations on your new assignment!It gives me immense pleasure to write to you with regard to the offer of marketing relationship with your company. We want your company to undertake marketing activities right from devising the marketing to implementation of a proper strategy to improve sales. We hope to have a mutually beneficial business relationship with your company. Looking forward to a positive reply from your end.We are pleased to inform you that we have accepted the business proposal sent by you and we are looking forward to work with the best of our business knowledge and potentials. We would like to take this esteem moment to thank you for offering us an opportunity to work with you. In the meantime, it is important to conduct a business meeting so as to discuss the terms and conditions of the business proposal.I am sorry that I will be unable to schedule a time to meet with you next Thursday to discuss your career plans. We are sorry to inform you that we have to terminate our business contractIt is my duty to inform you that our parent company GNU International is instituting a 'no flex-time' policy. As of July 1, we will no longer have this convenience. This letter is in response to your request for weekly progress reports. I will contact you at the beginning of next week to discuss what we still need to accomplish and how we propose to do so.Congratulations on your presentation to our new clients last Friday. The clients seemed especially to appreciate your attention to detail when you answered their questions. Thank you for the preparation you put into this effort. It was one of the best I have attended.I am connecting to you with an apologetic tone for not being able to take up the business proposal that you had sent to Vistashares Inc. Regrettably, recent cutbacks in federally sponsored city arts programs have not left us unscathed. Our grant having been discontinued, we have no alternative but to cease publication of City Artist. This change means the termination of employment for the entire magazine staff of writers, editors, and correspondents, including both full- and part-time employees.I regret that I must cancel our appointment to discuss your athletic clothing line. I have just signed an exclusive distributorship agreement with another company.Due to your unfortunate habit of stealing tools and materials from jobsites, I am firing you, effective immediately. Although we are not taking legal action, you must understand that we have on file the testimonies of several witnesses to your petty thefts, and all have indicated they would be pleased to testify against you in court should the occasion arise. You will receive no severance pay, and I cannot in good faith recommend you to another employer.We hope you will be inspiring us with your innovative thinking for years to come.Please accept my regrets in resigning from my position as Stockroom Manager, effective two weeks from today's date. \n",
      "\n",
      "\n",
      "Size:  1083\n"
     ]
    }
   ],
   "source": [
    "# Sample\n",
    "\n",
    "row = sales.iloc[0]\n",
    "#print(row)\n",
    "from_ = row['SalesAgentEmailID']\n",
    "to = row['ContactEmailID']\n",
    "start = row['Created Date']\n",
    "end = row['Close Date']\n",
    "text = get_interactions(from_, to, start, end).strip()\n",
    "print('Text:\\n\\n',text, '\\n\\n')\n",
    "print('Size: ', len(text.split()))"
   ]
  },
  {
   "cell_type": "code",
   "execution_count": 47,
   "metadata": {},
   "outputs": [
    {
     "name": "stdout",
     "output_type": "stream",
     "text": [
      "Number of interactions with themselves:  158388\n"
     ]
    }
   ],
   "source": [
    "# No. of interactions where from and to are same\n",
    "\n",
    "count = len(interx[interx['fromEmailId'] == interx['toEmailId']])\n",
    "print('Number of interactions with themselves: ',count)"
   ]
  },
  {
   "cell_type": "code",
   "execution_count": 56,
   "metadata": {},
   "outputs": [
    {
     "data": {
      "text/html": [
       "<div>\n",
       "<style scoped>\n",
       "    .dataframe tbody tr th:only-of-type {\n",
       "        vertical-align: middle;\n",
       "    }\n",
       "\n",
       "    .dataframe tbody tr th {\n",
       "        vertical-align: top;\n",
       "    }\n",
       "\n",
       "    .dataframe thead th {\n",
       "        text-align: right;\n",
       "    }\n",
       "</style>\n",
       "<table border=\"1\" class=\"dataframe\">\n",
       "  <thead>\n",
       "    <tr style=\"text-align: right;\">\n",
       "      <th></th>\n",
       "      <th>Account</th>\n",
       "      <th>Opportunity_ID</th>\n",
       "      <th>Sales_Agent</th>\n",
       "      <th>SalesAgentEmailID</th>\n",
       "      <th>ContactEmailID</th>\n",
       "      <th>Deal_Stage</th>\n",
       "      <th>Product</th>\n",
       "      <th>Close_Value</th>\n",
       "      <th>Created Date</th>\n",
       "      <th>Close Date</th>\n",
       "      <th>DateDiff</th>\n",
       "      <th>Interactions</th>\n",
       "      <th>Word Count</th>\n",
       "    </tr>\n",
       "  </thead>\n",
       "  <tbody>\n",
       "    <tr>\n",
       "      <th>0</th>\n",
       "      <td>Konex</td>\n",
       "      <td>3KR50X38</td>\n",
       "      <td>Corliss Cosme</td>\n",
       "      <td>corliss@piedpiper.com</td>\n",
       "      <td>delila@konex.com</td>\n",
       "      <td>Won</td>\n",
       "      <td>GTX Plus Basic</td>\n",
       "      <td>1255</td>\n",
       "      <td>2016-01-04</td>\n",
       "      <td>2016-05-24</td>\n",
       "      <td>141</td>\n",
       "      <td>We are writing from GHF regarding the previous...</td>\n",
       "      <td>1083</td>\n",
       "    </tr>\n",
       "    <tr>\n",
       "      <th>1</th>\n",
       "      <td>Finjob</td>\n",
       "      <td>YFS5KLJJ</td>\n",
       "      <td>Rosalina Dieter</td>\n",
       "      <td>rosalina@piedpiper.com</td>\n",
       "      <td>belinda@finjob.com</td>\n",
       "      <td>Won</td>\n",
       "      <td>MG Special</td>\n",
       "      <td>45</td>\n",
       "      <td>2016-01-04</td>\n",
       "      <td>2016-11-02</td>\n",
       "      <td>303</td>\n",
       "      <td>I want to thank you for the excellent service ...</td>\n",
       "      <td>218</td>\n",
       "    </tr>\n",
       "    <tr>\n",
       "      <th>2</th>\n",
       "      <td>Kinnamplus</td>\n",
       "      <td>N0ONCYVZ</td>\n",
       "      <td>Donn Cantrell</td>\n",
       "      <td>donn@piedpiper.com</td>\n",
       "      <td>monte@kinnamplus.com</td>\n",
       "      <td>Lost</td>\n",
       "      <td>MG Special</td>\n",
       "      <td>1054</td>\n",
       "      <td>2016-01-06</td>\n",
       "      <td>2016-12-07</td>\n",
       "      <td>336</td>\n",
       "      <td>I am honored that you would choose me to fill ...</td>\n",
       "      <td>507</td>\n",
       "    </tr>\n",
       "    <tr>\n",
       "      <th>3</th>\n",
       "      <td>Genco Pura Olive Oil Company</td>\n",
       "      <td>IBEUTCSW</td>\n",
       "      <td>James Ascencio</td>\n",
       "      <td>james@piedpiper.com</td>\n",
       "      <td>karole@gencopuraoliveoilcompany.com</td>\n",
       "      <td>In Progress</td>\n",
       "      <td>MG Advanced</td>\n",
       "      <td>1054</td>\n",
       "      <td>2016-01-06</td>\n",
       "      <td>2016-09-11</td>\n",
       "      <td>249</td>\n",
       "      <td>I appreciate your contribution to Morgan Stanl...</td>\n",
       "      <td>327</td>\n",
       "    </tr>\n",
       "    <tr>\n",
       "      <th>4</th>\n",
       "      <td>Initech</td>\n",
       "      <td>G8AO5FA2</td>\n",
       "      <td>Wilburn Farren</td>\n",
       "      <td>wilburn@piedpiper.com</td>\n",
       "      <td>alejandro@initech.com</td>\n",
       "      <td>Lost</td>\n",
       "      <td>MG Advanced</td>\n",
       "      <td>517</td>\n",
       "      <td>2016-01-06</td>\n",
       "      <td>2016-09-18</td>\n",
       "      <td>256</td>\n",
       "      <td>Please accept my regrets in resigning from my ...</td>\n",
       "      <td>139</td>\n",
       "    </tr>\n",
       "  </tbody>\n",
       "</table>\n",
       "</div>"
      ],
      "text/plain": [
       "                        Account Opportunity_ID      Sales_Agent  \\\n",
       "0                         Konex       3KR50X38    Corliss Cosme   \n",
       "1                        Finjob       YFS5KLJJ  Rosalina Dieter   \n",
       "2                    Kinnamplus       N0ONCYVZ    Donn Cantrell   \n",
       "3  Genco Pura Olive Oil Company       IBEUTCSW   James Ascencio   \n",
       "4                       Initech       G8AO5FA2   Wilburn Farren   \n",
       "\n",
       "        SalesAgentEmailID                       ContactEmailID   Deal_Stage  \\\n",
       "0   corliss@piedpiper.com                     delila@konex.com          Won   \n",
       "1  rosalina@piedpiper.com                   belinda@finjob.com          Won   \n",
       "2      donn@piedpiper.com                 monte@kinnamplus.com         Lost   \n",
       "3     james@piedpiper.com  karole@gencopuraoliveoilcompany.com  In Progress   \n",
       "4   wilburn@piedpiper.com                alejandro@initech.com         Lost   \n",
       "\n",
       "          Product  Close_Value Created Date Close Date  DateDiff  \\\n",
       "0  GTX Plus Basic         1255   2016-01-04 2016-05-24       141   \n",
       "1      MG Special           45   2016-01-04 2016-11-02       303   \n",
       "2      MG Special         1054   2016-01-06 2016-12-07       336   \n",
       "3     MG Advanced         1054   2016-01-06 2016-09-11       249   \n",
       "4     MG Advanced          517   2016-01-06 2016-09-18       256   \n",
       "\n",
       "                                        Interactions Word Count  \n",
       "0  We are writing from GHF regarding the previous...       1083  \n",
       "1  I want to thank you for the excellent service ...        218  \n",
       "2  I am honored that you would choose me to fill ...        507  \n",
       "3  I appreciate your contribution to Morgan Stanl...        327  \n",
       "4  Please accept my regrets in resigning from my ...        139  "
      ]
     },
     "execution_count": 56,
     "metadata": {},
     "output_type": "execute_result"
    }
   ],
   "source": [
    "# Creating the final dataset\n",
    "\n",
    "final = sales.copy()\n",
    "final['Interactions'] = None\n",
    "final['Word Count'] = None\n",
    "for i in range(sales.shape[0]):\n",
    "    row = sales.iloc[i]\n",
    "    from_ = row['SalesAgentEmailID']\n",
    "    to = row['ContactEmailID']\n",
    "    start = row['Created Date']\n",
    "    end = row['Close Date']\n",
    "    text = get_interactions(from_, to, start, end).strip()\n",
    "    length = len(text.split())\n",
    "    final.iat[i, -2] = text\n",
    "    final.iat[i, -1] = length\n",
    "final.head()"
   ]
  },
  {
   "cell_type": "code",
   "execution_count": 63,
   "metadata": {},
   "outputs": [],
   "source": [
    "#final.to_csv('sales+interactions.csv')\n",
    "final.to_excel('sales+interactions.xlsx')"
   ]
  },
  {
   "cell_type": "code",
   "execution_count": 67,
   "metadata": {},
   "outputs": [
    {
     "name": "stdout",
     "output_type": "stream",
     "text": [
      "No. of empty interactions:  315\n",
      "Percentage:  3.5795454545454546\n"
     ]
    }
   ],
   "source": [
    "# Number of empty interactions\n",
    "\n",
    "count = len(final[final['Word Count']==0])\n",
    "print('No. of empty interactions: ', count)\n",
    "print('Percentage: ', count/final.shape[0]*100)"
   ]
  },
  {
   "cell_type": "code",
   "execution_count": 69,
   "metadata": {},
   "outputs": [
    {
     "name": "stdout",
     "output_type": "stream",
     "text": [
      "Average:  782.3080681818182\n"
     ]
    }
   ],
   "source": [
    "# Average Word Count of interactions\n",
    "\n",
    "mean = np.mean(list(final['Word Count']))\n",
    "print('Average: ', mean)"
   ]
  },
  {
   "cell_type": "code",
   "execution_count": null,
   "metadata": {},
   "outputs": [],
   "source": []
  }
 ],
 "metadata": {
  "kernelspec": {
   "display_name": "Python 3",
   "language": "python",
   "name": "python3"
  },
  "language_info": {
   "codemirror_mode": {
    "name": "ipython",
    "version": 3
   },
   "file_extension": ".py",
   "mimetype": "text/x-python",
   "name": "python",
   "nbconvert_exporter": "python",
   "pygments_lexer": "ipython3",
   "version": "3.8.6rc1"
  }
 },
 "nbformat": 4,
 "nbformat_minor": 4
}
